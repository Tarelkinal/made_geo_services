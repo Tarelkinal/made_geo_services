{
 "cells": [
  {
   "cell_type": "code",
   "execution_count": 1,
   "metadata": {},
   "outputs": [],
   "source": [
    "import os\n",
    "import geopandas as gpd\n",
    "import pandas as pd\n",
    "import numpy as np\n",
    "from shapely.geometry import Point, LineString\n",
    "import matplotlib.pyplot as plt\n",
    "from datetime import date\n",
    "import mapclassify"
   ]
  },
  {
   "cell_type": "markdown",
   "metadata": {},
   "source": [
    "# Анализ пространственных данных. Домашнее задание №1"
   ]
  },
  {
   "cell_type": "markdown",
   "metadata": {},
   "source": [
    "Данные для выполнения заданий можно найти [здесь](https://yadi.sk/d/xBemeb0ODlhCAQ?w=1)\n",
    "\n",
    "Дедлайн: __20 октября 2020 г. 09:00__"
   ]
  },
  {
   "cell_type": "markdown",
   "metadata": {},
   "source": [
    "ФИО: Тарелкин Александр Алексеевич"
   ]
  },
  {
   "cell_type": "markdown",
   "metadata": {},
   "source": [
    "Группа: ml-11"
   ]
  },
  {
   "cell_type": "markdown",
   "metadata": {},
   "source": [
    "## Задание №1. Reading coordinates from a file and creating a geometries. 4 балла."
   ]
  },
  {
   "cell_type": "markdown",
   "metadata": {},
   "source": [
    "One of the \"classical\" problems in GIS is the situation where you have a set of coordinates in a file and you need to get them into a map (or into a GIS-software). Dataset `travelTimes_2015_Helsinki.txt` consist of travel times between specific locations in Helsinki Region."
   ]
  },
  {
   "cell_type": "markdown",
   "metadata": {},
   "source": [
    "1. Read the data into memory.\n",
    "2. Read 4 columns `from_x`, `from_y`, `to_x`, `to_y` from the data.\n",
    "3. Create two lists called __orig_points__ and __dest_points__\n",
    "4. Iterate over the rows of your numpy array and add Shapely Point -objects into the __orig_points__ -list and __dest_point__ -list representing the origin locations and destination locations accordingly."
   ]
  },
  {
   "cell_type": "markdown",
   "metadata": {},
   "source": [
    "`from_x`: x-coordinate of the __origin__ location (longitude)\n",
    "\n",
    "`from_y`: y-coordinate of the __origin__ location (latitude)\n",
    "\n",
    "`to_x`: x-coordinate of the __destination__ location (longitude)\n",
    "\n",
    "`to_y`: y-coordinate of the __destination__ location (latitude)"
   ]
  },
  {
   "cell_type": "code",
   "execution_count": 2,
   "metadata": {},
   "outputs": [
    {
     "data": {
      "text/html": [
       "<div>\n",
       "<style scoped>\n",
       "    .dataframe tbody tr th:only-of-type {\n",
       "        vertical-align: middle;\n",
       "    }\n",
       "\n",
       "    .dataframe tbody tr th {\n",
       "        vertical-align: top;\n",
       "    }\n",
       "\n",
       "    .dataframe thead th {\n",
       "        text-align: right;\n",
       "    }\n",
       "</style>\n",
       "<table border=\"1\" class=\"dataframe\">\n",
       "  <thead>\n",
       "    <tr style=\"text-align: right;\">\n",
       "      <th></th>\n",
       "      <th>from_x</th>\n",
       "      <th>from_y</th>\n",
       "      <th>to_x</th>\n",
       "      <th>to_y</th>\n",
       "    </tr>\n",
       "  </thead>\n",
       "  <tbody>\n",
       "    <tr>\n",
       "      <th>0</th>\n",
       "      <td>24.9704379</td>\n",
       "      <td>60.3119173</td>\n",
       "      <td>24.8560344</td>\n",
       "      <td>60.399940599999994</td>\n",
       "    </tr>\n",
       "    <tr>\n",
       "      <th>1</th>\n",
       "      <td>24.9704379</td>\n",
       "      <td>60.3119173</td>\n",
       "      <td>24.8605682</td>\n",
       "      <td>60.4000135</td>\n",
       "    </tr>\n",
       "    <tr>\n",
       "      <th>2</th>\n",
       "      <td>24.9704379</td>\n",
       "      <td>60.3119173</td>\n",
       "      <td>24.865102</td>\n",
       "      <td>60.4000863</td>\n",
       "    </tr>\n",
       "    <tr>\n",
       "      <th>3</th>\n",
       "      <td>24.9704379</td>\n",
       "      <td>60.3119173</td>\n",
       "      <td>24.8696358</td>\n",
       "      <td>60.4001589</td>\n",
       "    </tr>\n",
       "    <tr>\n",
       "      <th>4</th>\n",
       "      <td>24.9704379</td>\n",
       "      <td>60.3119173</td>\n",
       "      <td>24.842581699999997</td>\n",
       "      <td>60.39747779999999</td>\n",
       "    </tr>\n",
       "    <tr>\n",
       "      <th>...</th>\n",
       "      <td>...</td>\n",
       "      <td>...</td>\n",
       "      <td>...</td>\n",
       "      <td>...</td>\n",
       "    </tr>\n",
       "    <tr>\n",
       "      <th>14638</th>\n",
       "      <td>24.9704379</td>\n",
       "      <td>60.3119173</td>\n",
       "      <td>24.559701899999997</td>\n",
       "      <td>60.1747539</td>\n",
       "    </tr>\n",
       "    <tr>\n",
       "      <th>14639</th>\n",
       "      <td>24.9704379</td>\n",
       "      <td>60.3119173</td>\n",
       "      <td>24.564203699999997</td>\n",
       "      <td>60.17483670000001</td>\n",
       "    </tr>\n",
       "    <tr>\n",
       "      <th>14640</th>\n",
       "      <td>24.9704379</td>\n",
       "      <td>60.3119173</td>\n",
       "      <td>24.5553668</td>\n",
       "      <td>60.1724281</td>\n",
       "    </tr>\n",
       "    <tr>\n",
       "      <th>14641</th>\n",
       "      <td>24.9704379</td>\n",
       "      <td>60.3119173</td>\n",
       "      <td>24.5598683</td>\n",
       "      <td>60.1725111</td>\n",
       "    </tr>\n",
       "    <tr>\n",
       "      <th>14642</th>\n",
       "      <td>24.9704379</td>\n",
       "      <td>60.3119173</td>\n",
       "      <td>24.5555336</td>\n",
       "      <td>60.170185399999994</td>\n",
       "    </tr>\n",
       "  </tbody>\n",
       "</table>\n",
       "<p>14643 rows × 4 columns</p>\n",
       "</div>"
      ],
      "text/plain": [
       "           from_x      from_y                to_x                to_y\n",
       "0      24.9704379  60.3119173          24.8560344  60.399940599999994\n",
       "1      24.9704379  60.3119173          24.8605682          60.4000135\n",
       "2      24.9704379  60.3119173           24.865102          60.4000863\n",
       "3      24.9704379  60.3119173          24.8696358          60.4001589\n",
       "4      24.9704379  60.3119173  24.842581699999997   60.39747779999999\n",
       "...           ...         ...                 ...                 ...\n",
       "14638  24.9704379  60.3119173  24.559701899999997          60.1747539\n",
       "14639  24.9704379  60.3119173  24.564203699999997   60.17483670000001\n",
       "14640  24.9704379  60.3119173          24.5553668          60.1724281\n",
       "14641  24.9704379  60.3119173          24.5598683          60.1725111\n",
       "14642  24.9704379  60.3119173          24.5555336  60.170185399999994\n",
       "\n",
       "[14643 rows x 4 columns]"
      ]
     },
     "execution_count": 2,
     "metadata": {},
     "output_type": "execute_result"
    }
   ],
   "source": [
    "# 1, 2\n",
    "\n",
    "df = gpd.read_file('travelTimes_2015_Helsinki.csv')\n",
    "df[['from_x', 'from_y', 'to_x', 'to_y']]"
   ]
  },
  {
   "cell_type": "code",
   "execution_count": 3,
   "metadata": {},
   "outputs": [],
   "source": [
    "# 3, 4\n",
    "\n",
    "orig_points = [Point(x, y) for x, y in np.array(df[['from_x', 'from_y']].astype(float))]\n",
    "dest_points = [Point(x, y) for x, y in np.array(df[['to_x', 'to_y']].astype(float))]"
   ]
  },
  {
   "cell_type": "markdown",
   "metadata": {},
   "source": [
    "## Задание №2. Creating LineStrings that represent the movements. 6 баллов."
   ]
  },
  {
   "cell_type": "markdown",
   "metadata": {},
   "source": [
    "Please use data from previous task:"
   ]
  },
  {
   "cell_type": "markdown",
   "metadata": {},
   "source": [
    "1. Create a list called `lines`\n",
    "2. Iterate over the __orig_points__ and __dest_points__ lists and create a Shapely _LineString_ -object between the origin and destination point\n",
    "3. Add that line into the `lines` -list.\n",
    "4. Find out what is the average (Euclidian) distance of all the origin-destination _LineStrings_ that we just created, and print it out."
   ]
  },
  {
   "cell_type": "code",
   "execution_count": 4,
   "metadata": {},
   "outputs": [
    {
     "data": {
      "text/plain": [
       "0.21502224823227248"
      ]
     },
     "execution_count": 4,
     "metadata": {},
     "output_type": "execute_result"
    }
   ],
   "source": [
    "# 1, 2, 3, 4\n",
    "\n",
    "lines = [LineString((x, y)) for x, y in zip(orig_points, dest_points)] # 1, 2, 3\n",
    "np.mean([line.length for line in lines]) # 4"
   ]
  },
  {
   "cell_type": "markdown",
   "metadata": {},
   "source": [
    "## Задание №3. Points to map. 4 балла."
   ]
  },
  {
   "cell_type": "markdown",
   "metadata": {},
   "source": [
    "Aim is to plot a set of x and y coordinates that we should read from a `some_posts.csv`. The data has 81379 rows and consists of locations and times of social media posts inside Kruger national park in South Africa."
   ]
  },
  {
   "cell_type": "markdown",
   "metadata": {},
   "source": [
    "1. Read the data into memory.\n",
    "2. Create an empty column called `geometry` where you will store shapely _Point_ objects\n",
    "3. Iterate over the rows of the DataFrame (__x__ and __y__ -coordinates) and insert _Point_ objects into column `geometry`\n",
    "4. Convert that DataFrame into a GeoDataFrame\n",
    "5. Update the CRS for coordinate system as WGS84 (i.e. epsg code: 4326)\n",
    "6. Save the data into a Shapefile called `Kruger_posts.shp`\n",
    "7. Create a simple map of those points using .plot() -funtion"
   ]
  },
  {
   "cell_type": "markdown",
   "metadata": {},
   "source": [
    "`lat`: y-coordinate of the post\n",
    "\n",
    "`lon`: x-coordinate of the post\n",
    "\n",
    "`timestamp`: Time when the post was uploaded\n",
    "\n",
    "`userid`: userid"
   ]
  },
  {
   "cell_type": "code",
   "execution_count": 5,
   "metadata": {},
   "outputs": [
    {
     "data": {
      "text/html": [
       "<div>\n",
       "<style scoped>\n",
       "    .dataframe tbody tr th:only-of-type {\n",
       "        vertical-align: middle;\n",
       "    }\n",
       "\n",
       "    .dataframe tbody tr th {\n",
       "        vertical-align: top;\n",
       "    }\n",
       "\n",
       "    .dataframe thead th {\n",
       "        text-align: right;\n",
       "    }\n",
       "</style>\n",
       "<table border=\"1\" class=\"dataframe\">\n",
       "  <thead>\n",
       "    <tr style=\"text-align: right;\">\n",
       "      <th></th>\n",
       "      <th>lat</th>\n",
       "      <th>lon</th>\n",
       "      <th>timestamp</th>\n",
       "      <th>userid</th>\n",
       "      <th>geometry</th>\n",
       "    </tr>\n",
       "  </thead>\n",
       "  <tbody>\n",
       "    <tr>\n",
       "      <th>0</th>\n",
       "      <td>-24.980792</td>\n",
       "      <td>31.484633</td>\n",
       "      <td>2015-07-07 03:02</td>\n",
       "      <td>66487960</td>\n",
       "      <td>POINT (-24.98079 31.48463)</td>\n",
       "    </tr>\n",
       "    <tr>\n",
       "      <th>1</th>\n",
       "      <td>-25.499225</td>\n",
       "      <td>31.508906</td>\n",
       "      <td>2015-07-07 03:18</td>\n",
       "      <td>65281761</td>\n",
       "      <td>POINT (-25.49922 31.50891)</td>\n",
       "    </tr>\n",
       "    <tr>\n",
       "      <th>2</th>\n",
       "      <td>-24.342578</td>\n",
       "      <td>30.930866</td>\n",
       "      <td>2015-03-07 03:38</td>\n",
       "      <td>90916112</td>\n",
       "      <td>POINT (-24.34258 30.93087)</td>\n",
       "    </tr>\n",
       "    <tr>\n",
       "      <th>3</th>\n",
       "      <td>-24.854614</td>\n",
       "      <td>31.519718</td>\n",
       "      <td>2015-10-07 05:04</td>\n",
       "      <td>37959089</td>\n",
       "      <td>POINT (-24.85461 31.51972)</td>\n",
       "    </tr>\n",
       "    <tr>\n",
       "      <th>4</th>\n",
       "      <td>-24.921069</td>\n",
       "      <td>31.520836</td>\n",
       "      <td>2015-10-07 05:19</td>\n",
       "      <td>27793716</td>\n",
       "      <td>POINT (-24.92107 31.52084)</td>\n",
       "    </tr>\n",
       "  </tbody>\n",
       "</table>\n",
       "</div>"
      ],
      "text/plain": [
       "         lat        lon         timestamp    userid  \\\n",
       "0 -24.980792  31.484633  2015-07-07 03:02  66487960   \n",
       "1 -25.499225  31.508906  2015-07-07 03:18  65281761   \n",
       "2 -24.342578  30.930866  2015-03-07 03:38  90916112   \n",
       "3 -24.854614  31.519718  2015-10-07 05:04  37959089   \n",
       "4 -24.921069  31.520836  2015-10-07 05:19  27793716   \n",
       "\n",
       "                     geometry  \n",
       "0  POINT (-24.98079 31.48463)  \n",
       "1  POINT (-25.49922 31.50891)  \n",
       "2  POINT (-24.34258 30.93087)  \n",
       "3  POINT (-24.85461 31.51972)  \n",
       "4  POINT (-24.92107 31.52084)  "
      ]
     },
     "execution_count": 5,
     "metadata": {},
     "output_type": "execute_result"
    }
   ],
   "source": [
    "# 1, 2, 3, 4\n",
    "\n",
    "df = gpd.read_file('some_posts.csv') # 1, 2, 4\n",
    "\n",
    "df[['lat', 'lon']] = df[['lat', 'lon']].astype(float)\n",
    "df['geometry'] = [Point(x, y) for x, y in zip(df['lat'], df['lon'])] # 3\n",
    "\n",
    "df.head()"
   ]
  },
  {
   "cell_type": "code",
   "execution_count": 6,
   "metadata": {
    "scrolled": true
   },
   "outputs": [
    {
     "data": {
      "text/plain": [
       "<Geographic 2D CRS: EPSG:4326>\n",
       "Name: WGS 84\n",
       "Axis Info [ellipsoidal]:\n",
       "- Lat[north]: Geodetic latitude (degree)\n",
       "- Lon[east]: Geodetic longitude (degree)\n",
       "Area of Use:\n",
       "- name: World\n",
       "- bounds: (-180.0, -90.0, 180.0, 90.0)\n",
       "Datum: World Geodetic System 1984\n",
       "- Ellipsoid: WGS 84\n",
       "- Prime Meridian: Greenwich"
      ]
     },
     "execution_count": 6,
     "metadata": {},
     "output_type": "execute_result"
    }
   ],
   "source": [
    "# 5\n",
    "\n",
    "df = df.set_crs(epsg=4326)\n",
    "df.crs"
   ]
  },
  {
   "cell_type": "code",
   "execution_count": 7,
   "metadata": {},
   "outputs": [],
   "source": [
    "# 6\n",
    "\n",
    "df.to_file('Kruger_posts.shp')"
   ]
  },
  {
   "cell_type": "code",
   "execution_count": 8,
   "metadata": {},
   "outputs": [
    {
     "data": {
      "image/png": "[encoded data removed]",
      "text/plain": [
       "<Figure size 432x288 with 1 Axes>"
      ]
     },
     "metadata": {
      "needs_background": "light"
     },
     "output_type": "display_data"
    }
   ],
   "source": [
    "# 7\n",
    "\n",
    "df.plot()\n",
    "plt.title('social media posts location')\n",
    "plt.xlabel('latitude')\n",
    "plt.ylabel('longitude')\n",
    "plt.show()"
   ]
  },
  {
   "cell_type": "markdown",
   "metadata": {},
   "source": [
    "## Задание №4. Movements of individual user. 6 баллов."
   ]
  },
  {
   "cell_type": "markdown",
   "metadata": {},
   "source": [
    "Please use data from previous task:"
   ]
  },
  {
   "cell_type": "markdown",
   "metadata": {},
   "source": [
    "1. Group the data by `userid`\n",
    "2. Create an empty GeoDataFrame\n",
    "3. For each user:\n",
    "   - sort the rows by `timestamp`\n",
    "   - create _LineString_ objects based on the points\n",
    "   - add the `geometry` and the `userid` into the GeoDataFrame you created in the last step\n",
    "4. Determine the CRS of your GeoDataFrame to WGS84 (epsg code: 4326)\n",
    "5. Save the movements of each user into a separate Shapefile\n",
    "   - Name the output Shapefile based on the `userid` number"
   ]
  },
  {
   "cell_type": "code",
   "execution_count": 9,
   "metadata": {},
   "outputs": [
    {
     "data": {
      "text/html": [
       "<div>\n",
       "<style scoped>\n",
       "    .dataframe tbody tr th:only-of-type {\n",
       "        vertical-align: middle;\n",
       "    }\n",
       "\n",
       "    .dataframe tbody tr th {\n",
       "        vertical-align: top;\n",
       "    }\n",
       "\n",
       "    .dataframe thead th {\n",
       "        text-align: right;\n",
       "    }\n",
       "</style>\n",
       "<table border=\"1\" class=\"dataframe\">\n",
       "  <thead>\n",
       "    <tr style=\"text-align: right;\">\n",
       "      <th></th>\n",
       "      <th>userid</th>\n",
       "      <th>geometry</th>\n",
       "    </tr>\n",
       "  </thead>\n",
       "  <tbody>\n",
       "    <tr>\n",
       "      <th>0</th>\n",
       "      <td>10019400</td>\n",
       "      <td>LINESTRING (-25.03144 31.13128, -25.03100 31.1...</td>\n",
       "    </tr>\n",
       "    <tr>\n",
       "      <th>1</th>\n",
       "      <td>10028023</td>\n",
       "      <td>LINESTRING (-25.47257 31.09069, -25.49688 31.5...</td>\n",
       "    </tr>\n",
       "    <tr>\n",
       "      <th>2</th>\n",
       "      <td>10051964</td>\n",
       "      <td>LINESTRING (-25.32061 31.01790, -25.28999 31.0...</td>\n",
       "    </tr>\n",
       "    <tr>\n",
       "      <th>3</th>\n",
       "      <td>10060150</td>\n",
       "      <td>LINESTRING (-24.80044 31.54159, -24.80044 31.5...</td>\n",
       "    </tr>\n",
       "    <tr>\n",
       "      <th>4</th>\n",
       "      <td>10081875</td>\n",
       "      <td>LINESTRING (-25.48182 30.89649, -25.29401 31.0...</td>\n",
       "    </tr>\n",
       "  </tbody>\n",
       "</table>\n",
       "</div>"
      ],
      "text/plain": [
       "     userid                                           geometry\n",
       "0  10019400  LINESTRING (-25.03144 31.13128, -25.03100 31.1...\n",
       "1  10028023  LINESTRING (-25.47257 31.09069, -25.49688 31.5...\n",
       "2  10051964  LINESTRING (-25.32061 31.01790, -25.28999 31.0...\n",
       "3  10060150  LINESTRING (-24.80044 31.54159, -24.80044 31.5...\n",
       "4  10081875  LINESTRING (-25.48182 30.89649, -25.29401 31.0..."
      ]
     },
     "execution_count": 9,
     "metadata": {},
     "output_type": "execute_result"
    }
   ],
   "source": [
    "# 1, 2, 3\n",
    "\n",
    "df.sort_values(by=['userid', 'timestamp'], inplace=True) # 2\n",
    "\n",
    "groupby = df.groupby('userid') # 1\n",
    " \n",
    "df_move = [[key, LineString(value.geometry.values)] for key, value in groupby if len(value.geometry.values) > 1] # 3\n",
    "df_move = gpd.GeoDataFrame(df_move, columns=['userid', 'geometry']) \n",
    "\n",
    "df_move.head()"
   ]
  },
  {
   "cell_type": "code",
   "execution_count": 10,
   "metadata": {},
   "outputs": [
    {
     "data": {
      "text/plain": [
       "<Geographic 2D CRS: EPSG:4326>\n",
       "Name: WGS 84\n",
       "Axis Info [ellipsoidal]:\n",
       "- Lat[north]: Geodetic latitude (degree)\n",
       "- Lon[east]: Geodetic longitude (degree)\n",
       "Area of Use:\n",
       "- name: World\n",
       "- bounds: (-180.0, -90.0, 180.0, 90.0)\n",
       "Datum: World Geodetic System 1984\n",
       "- Ellipsoid: WGS 84\n",
       "- Prime Meridian: Greenwich"
      ]
     },
     "execution_count": 10,
     "metadata": {},
     "output_type": "execute_result"
    }
   ],
   "source": [
    "# 4\n",
    "\n",
    "df_move = df_move.set_crs(epsg=4326)\n",
    "df_move.crs"
   ]
  },
  {
   "cell_type": "code",
   "execution_count": 11,
   "metadata": {},
   "outputs": [],
   "source": [
    "# 5\n",
    "\n",
    "if not os.path.isdir('users_movements'):\n",
    "     os.mkdir('users_movements')\n",
    "\n",
    "for i in range(df_move.shape[0]):\n",
    "    gpd.GeoDataFrame([df_move.iloc[i]]).to_file(f\"users_movements\\{df_move.iloc[i]['userid']}.shp\")"
   ]
  },
  {
   "cell_type": "markdown",
   "metadata": {},
   "source": [
    "## Задание №5. Join accessibility datasets into a grid and visualize them by using a classifier. 4 балла."
   ]
  },
  {
   "cell_type": "markdown",
   "metadata": {},
   "source": [
    "A dataset from `dataE4.zip` includes 7 text files containing data about accessibility in Helsinki Region and a Shapefile that contains a Polygon grid that can be used to visualize and analyze the data spatially. The datasets are:\n",
    "\n",
    " - `travel_times_to_[XXXXXXX]_[NAME-OF-THE-CENTER].txt` including travel times and road network distances to specific shopping center\n",
    " - `MetropAccess_YKR_grid_EurefFIN.shp` including the Polygon grid with __YKR_ID__ column that can be used to join the grid with the accessibility data\n",
    " \n",
    "Find out more about the data [here](https://blogs.helsinki.fi/accessibility/helsinki-region-travel-time-matrix-2015/)"
   ]
  },
  {
   "cell_type": "markdown",
   "metadata": {},
   "source": [
    "1. Read those travel_time data files (one by one) with Pandas and select only following columns from them:\n",
    "\n",
    " - `pt_r_tt`\n",
    " - `car_r_t`\n",
    " - `from_id`\n",
    " - `to_id`\n",
    "\n",
    "\n",
    "2. Visualize the classified travel times (Public transport AND Car) of at least one of the shopping centers using any classification method (see [PySAL](https://pysal.org/) for more details upon classification methods). You need to classify the data into a new column in your GeoDataFrame."
   ]
  },
  {
   "cell_type": "code",
   "execution_count": 12,
   "metadata": {},
   "outputs": [],
   "source": [
    "# 1\n",
    "\n",
    "os.chdir('.\\\\dataE4')\n",
    "\n",
    "df = gpd.read_file('MetropAccess_YKR_grid_EurefFIN.shp')\n",
    "df.rename(columns={'YKR_ID' : 'from_id'}, inplace=True)\n",
    "\n",
    "df_1 = gpd.read_file('TravelTimes_to_5878070_Jumbo.csv')\n",
    "df_1 = df_1[['pt_r_tt' , 'car_r_t' ,'from_id', 'to_id']]\n",
    "df_1 = df_1.astype(int)\n",
    "\n",
    "df_2 = gpd.read_file('TravelTimes_to_5878087_Dixi.csv')\n",
    "df_2 = df_2[['pt_r_tt' , 'car_r_t' ,'from_id', 'to_id']]\n",
    "df_2 = df_2.astype(int)\n",
    "\n",
    "df_3 = gpd.read_file('TravelTimes_to_5902043_Myyrmanni.csv')\n",
    "df_3 = df_3[['pt_r_tt' , 'car_r_t' ,'from_id', 'to_id']]\n",
    "df_3 = df_3.astype(int)\n",
    "\n",
    "df_4 = gpd.read_file('TravelTimes_to_5944003_Itis.csv')\n",
    "df_4 = df_4[['pt_r_tt' , 'car_r_t' ,'from_id', 'to_id']]\n",
    "df_4 = df_4.astype(int)\n",
    "\n",
    "df_5 = gpd.read_file('TravelTimes_to_5975373_Forum.csv')\n",
    "df_5 = df_5[['pt_r_tt' , 'car_r_t' ,'from_id', 'to_id']]\n",
    "df_5 = df_5.astype(int)\n",
    "\n",
    "df_6 = gpd.read_file('TravelTimes_to_5978593_Iso_omena.csv')\n",
    "df_6 = df_6[['pt_r_tt' , 'car_r_t' ,'from_id', 'to_id']]\n",
    "df_6 = df_6.astype(int)\n",
    "\n",
    "df_7 = gpd.read_file('TravelTimes_to_5980260_Ruoholahti.csv')\n",
    "df_7 = df_7[['pt_r_tt' , 'car_r_t' ,'from_id', 'to_id']]\n",
    "df_7 = df_7.astype(int)"
   ]
  },
  {
   "cell_type": "code",
   "execution_count": 13,
   "metadata": {},
   "outputs": [
    {
     "data": {
      "text/html": [
       "<div>\n",
       "<style scoped>\n",
       "    .dataframe tbody tr th:only-of-type {\n",
       "        vertical-align: middle;\n",
       "    }\n",
       "\n",
       "    .dataframe tbody tr th {\n",
       "        vertical-align: top;\n",
       "    }\n",
       "\n",
       "    .dataframe thead th {\n",
       "        text-align: right;\n",
       "    }\n",
       "</style>\n",
       "<table border=\"1\" class=\"dataframe\">\n",
       "  <thead>\n",
       "    <tr style=\"text-align: right;\">\n",
       "      <th></th>\n",
       "      <th>x</th>\n",
       "      <th>y</th>\n",
       "      <th>from_id</th>\n",
       "      <th>geometry</th>\n",
       "      <th>pt_r_tt</th>\n",
       "      <th>car_r_t</th>\n",
       "      <th>to_id</th>\n",
       "    </tr>\n",
       "  </thead>\n",
       "  <tbody>\n",
       "    <tr>\n",
       "      <th>0</th>\n",
       "      <td>381875.0</td>\n",
       "      <td>6697880.0</td>\n",
       "      <td>5785640</td>\n",
       "      <td>POLYGON ((382000.000 6697750.000, 381750.000 6...</td>\n",
       "      <td>131</td>\n",
       "      <td>39</td>\n",
       "      <td>5878070</td>\n",
       "    </tr>\n",
       "    <tr>\n",
       "      <th>1</th>\n",
       "      <td>382125.0</td>\n",
       "      <td>6697880.0</td>\n",
       "      <td>5785641</td>\n",
       "      <td>POLYGON ((382250.000 6697750.000, 382000.000 6...</td>\n",
       "      <td>129</td>\n",
       "      <td>39</td>\n",
       "      <td>5878070</td>\n",
       "    </tr>\n",
       "    <tr>\n",
       "      <th>2</th>\n",
       "      <td>382375.0</td>\n",
       "      <td>6697880.0</td>\n",
       "      <td>5785642</td>\n",
       "      <td>POLYGON ((382500.000 6697750.000, 382250.000 6...</td>\n",
       "      <td>129</td>\n",
       "      <td>45</td>\n",
       "      <td>5878070</td>\n",
       "    </tr>\n",
       "    <tr>\n",
       "      <th>3</th>\n",
       "      <td>382625.0</td>\n",
       "      <td>6697880.0</td>\n",
       "      <td>5785643</td>\n",
       "      <td>POLYGON ((382750.000 6697750.000, 382500.000 6...</td>\n",
       "      <td>138</td>\n",
       "      <td>46</td>\n",
       "      <td>5878070</td>\n",
       "    </tr>\n",
       "    <tr>\n",
       "      <th>4</th>\n",
       "      <td>381125.0</td>\n",
       "      <td>6697630.0</td>\n",
       "      <td>5787544</td>\n",
       "      <td>POLYGON ((381250.000 6697500.000, 381000.000 6...</td>\n",
       "      <td>115</td>\n",
       "      <td>38</td>\n",
       "      <td>5878070</td>\n",
       "    </tr>\n",
       "  </tbody>\n",
       "</table>\n",
       "</div>"
      ],
      "text/plain": [
       "          x          y  from_id  \\\n",
       "0  381875.0  6697880.0  5785640   \n",
       "1  382125.0  6697880.0  5785641   \n",
       "2  382375.0  6697880.0  5785642   \n",
       "3  382625.0  6697880.0  5785643   \n",
       "4  381125.0  6697630.0  5787544   \n",
       "\n",
       "                                            geometry  pt_r_tt  car_r_t  \\\n",
       "0  POLYGON ((382000.000 6697750.000, 381750.000 6...      131       39   \n",
       "1  POLYGON ((382250.000 6697750.000, 382000.000 6...      129       39   \n",
       "2  POLYGON ((382500.000 6697750.000, 382250.000 6...      129       45   \n",
       "3  POLYGON ((382750.000 6697750.000, 382500.000 6...      138       46   \n",
       "4  POLYGON ((381250.000 6697500.000, 381000.000 6...      115       38   \n",
       "\n",
       "     to_id  \n",
       "0  5878070  \n",
       "1  5878070  \n",
       "2  5878070  \n",
       "3  5878070  \n",
       "4  5878070  "
      ]
     },
     "execution_count": 13,
     "metadata": {},
     "output_type": "execute_result"
    }
   ],
   "source": [
    "# 2 (merge data)\n",
    "\n",
    "df_merged = df.merge(df_1, on='from_id', how='inner')\n",
    "df_merged = df_merged.loc[(df_1['pt_r_tt'] >=0) & (df_1['car_r_t'] >= 0)]\n",
    "\n",
    "df_merged.head()"
   ]
  },
  {
   "cell_type": "code",
   "execution_count": 14,
   "metadata": {
    "scrolled": false
   },
   "outputs": [
    {
     "data": {
      "image/png": "[encoded data removed]",
      "text/plain": [
       "<Figure size 1296x720 with 2 Axes>"
      ]
     },
     "metadata": {
      "needs_background": "light"
     },
     "output_type": "display_data"
    }
   ],
   "source": [
    "# 2 (visualization)\n",
    "\n",
    "fig, axes = plt.subplots(1, 2, figsize=(18, 10))\n",
    "\n",
    "axes[0].set_title('pt_r_tt')\n",
    "axes[1].set_title('car_r_t')\n",
    "\n",
    "df_merged.plot(column=\"pt_r_tt\", scheme=\"Natural_Breaks\", k=9, cmap=\"RdYlBu\", linewidth=0, legend=True, ax=axes[0])\n",
    "df_merged.plot(column=\"car_r_t\", scheme=\"Natural_Breaks\", k=9, cmap=\"RdYlBu\", linewidth=0, legend=True, ax=axes[1])\n",
    "plt.show()"
   ]
  },
  {
   "cell_type": "code",
   "execution_count": 15,
   "metadata": {},
   "outputs": [
    {
     "data": {
      "text/html": [
       "<div>\n",
       "<style scoped>\n",
       "    .dataframe tbody tr th:only-of-type {\n",
       "        vertical-align: middle;\n",
       "    }\n",
       "\n",
       "    .dataframe tbody tr th {\n",
       "        vertical-align: top;\n",
       "    }\n",
       "\n",
       "    .dataframe thead th {\n",
       "        text-align: right;\n",
       "    }\n",
       "</style>\n",
       "<table border=\"1\" class=\"dataframe\">\n",
       "  <thead>\n",
       "    <tr style=\"text-align: right;\">\n",
       "      <th></th>\n",
       "      <th>x</th>\n",
       "      <th>y</th>\n",
       "      <th>from_id</th>\n",
       "      <th>geometry</th>\n",
       "      <th>pt_r_tt</th>\n",
       "      <th>car_r_t</th>\n",
       "      <th>to_id</th>\n",
       "      <th>nb_pt_tt</th>\n",
       "      <th>nb_car_r_t</th>\n",
       "    </tr>\n",
       "  </thead>\n",
       "  <tbody>\n",
       "    <tr>\n",
       "      <th>0</th>\n",
       "      <td>381875.0</td>\n",
       "      <td>6697880.0</td>\n",
       "      <td>5785640</td>\n",
       "      <td>POLYGON ((382000.000 6697750.000, 381750.000 6...</td>\n",
       "      <td>131</td>\n",
       "      <td>39</td>\n",
       "      <td>5878070</td>\n",
       "      <td>7</td>\n",
       "      <td>5</td>\n",
       "    </tr>\n",
       "    <tr>\n",
       "      <th>1</th>\n",
       "      <td>382125.0</td>\n",
       "      <td>6697880.0</td>\n",
       "      <td>5785641</td>\n",
       "      <td>POLYGON ((382250.000 6697750.000, 382000.000 6...</td>\n",
       "      <td>129</td>\n",
       "      <td>39</td>\n",
       "      <td>5878070</td>\n",
       "      <td>7</td>\n",
       "      <td>5</td>\n",
       "    </tr>\n",
       "    <tr>\n",
       "      <th>2</th>\n",
       "      <td>382375.0</td>\n",
       "      <td>6697880.0</td>\n",
       "      <td>5785642</td>\n",
       "      <td>POLYGON ((382500.000 6697750.000, 382250.000 6...</td>\n",
       "      <td>129</td>\n",
       "      <td>45</td>\n",
       "      <td>5878070</td>\n",
       "      <td>7</td>\n",
       "      <td>6</td>\n",
       "    </tr>\n",
       "    <tr>\n",
       "      <th>3</th>\n",
       "      <td>382625.0</td>\n",
       "      <td>6697880.0</td>\n",
       "      <td>5785643</td>\n",
       "      <td>POLYGON ((382750.000 6697750.000, 382500.000 6...</td>\n",
       "      <td>138</td>\n",
       "      <td>46</td>\n",
       "      <td>5878070</td>\n",
       "      <td>8</td>\n",
       "      <td>6</td>\n",
       "    </tr>\n",
       "    <tr>\n",
       "      <th>4</th>\n",
       "      <td>381125.0</td>\n",
       "      <td>6697630.0</td>\n",
       "      <td>5787544</td>\n",
       "      <td>POLYGON ((381250.000 6697500.000, 381000.000 6...</td>\n",
       "      <td>115</td>\n",
       "      <td>38</td>\n",
       "      <td>5878070</td>\n",
       "      <td>7</td>\n",
       "      <td>5</td>\n",
       "    </tr>\n",
       "  </tbody>\n",
       "</table>\n",
       "</div>"
      ],
      "text/plain": [
       "          x          y  from_id  \\\n",
       "0  381875.0  6697880.0  5785640   \n",
       "1  382125.0  6697880.0  5785641   \n",
       "2  382375.0  6697880.0  5785642   \n",
       "3  382625.0  6697880.0  5785643   \n",
       "4  381125.0  6697630.0  5787544   \n",
       "\n",
       "                                            geometry  pt_r_tt  car_r_t  \\\n",
       "0  POLYGON ((382000.000 6697750.000, 381750.000 6...      131       39   \n",
       "1  POLYGON ((382250.000 6697750.000, 382000.000 6...      129       39   \n",
       "2  POLYGON ((382500.000 6697750.000, 382250.000 6...      129       45   \n",
       "3  POLYGON ((382750.000 6697750.000, 382500.000 6...      138       46   \n",
       "4  POLYGON ((381250.000 6697500.000, 381000.000 6...      115       38   \n",
       "\n",
       "     to_id  nb_pt_tt  nb_car_r_t  \n",
       "0  5878070         7           5  \n",
       "1  5878070         7           5  \n",
       "2  5878070         7           6  \n",
       "3  5878070         8           6  \n",
       "4  5878070         7           5  "
      ]
     },
     "execution_count": 15,
     "metadata": {},
     "output_type": "execute_result"
    }
   ],
   "source": [
    "# 2 (add column with classification result)\n",
    "\n",
    "classifier_pt = mapclassify.NaturalBreaks(y=df_merged['pt_r_tt'], k=9)\n",
    "classifier_car = mapclassify.NaturalBreaks(y=df_merged['car_r_t'], k=9)\n",
    "\n",
    "df_merged['nb_pt_tt'] = df_merged[['pt_r_tt']].apply(classifier_pt)\n",
    "df_merged['nb_car_r_t'] = df_merged[['car_r_t']].apply(classifier_car)\n",
    "\n",
    "df_merged.head()"
   ]
  },
  {
   "cell_type": "markdown",
   "metadata": {},
   "source": [
    "## Задание №6. Calculate and visualize the dominance areas of shopping centers. 6 баллов."
   ]
  },
  {
   "cell_type": "markdown",
   "metadata": {},
   "source": [
    "Please use data from previous task. The aim is to define the dominance area for each of those shopping centers based on travel time:"
   ]
  },
  {
   "cell_type": "markdown",
   "metadata": {},
   "source": [
    "1. Iterate over the accessibility files one by one\n",
    "2. Rename the travel time columns so that they can be identified\n",
    "   - you can include e.g. the `to_id` number as part of the column name (then the column name could be e.g. \"pt_r_tt_5987221\")\n",
    "3. Join those columns into `MetropAccess_YKR_grid_EurefFIN.shp` where __YKR_ID__ in the grid corresponds to `from_id` in the travel time data file. At the end you should have a GeoDataFrame with different columns show the travel times to different shopping centers.\n",
    "4. For each row find out the __minimum__ value of __all__ `pt_r_tt_XXXXXX` columns and insert that value into a new column called `min_time_pt`. You can now also parse the `to_id` value from the column name (i.e. parse the last number-series from the column text) that had the minimum travel time value and insert that value as a number into a column called `dominant_service`. In this, way are able to determine the \"closest\" shopping center for each grid cell and visualize it either by travel times or by using the __YKR_ID__ number of the shopping center (i.e. that number series that was used in column name).\n",
    "5. Visualize the travel times of our `min_time_pt` column using any classifier.\n",
    "6. Visualize also the values in `dominant_service` column (no need to use any specific classifier). Notice that the value should be a number. If it is still as text, you need to convert it first."
   ]
  },
  {
   "cell_type": "code",
   "execution_count": 16,
   "metadata": {},
   "outputs": [],
   "source": [
    "# 1, 2, 3\n",
    "\n",
    "df_merged = df.merge(df_1, on='from_id', how='inner')\n",
    "df_merged.rename(columns={'pt_r_tt' : 'pt_r_tt_5878070'}, inplace=True)\n",
    "df_merged.drop(['car_r_t', 'to_id'], axis=1, inplace=True)\n",
    "\n",
    "df_merged = df_merged.merge(df_2, on='from_id', how='inner')\n",
    "df_merged.rename(columns={'pt_r_tt' : 'pt_r_tt_5878087'}, inplace=True)\n",
    "df_merged.drop(['car_r_t', 'to_id'], axis=1, inplace=True)\n",
    "\n",
    "df_merged = df_merged.merge(df_3, on='from_id', how='inner')\n",
    "df_merged.rename(columns={'pt_r_tt' : 'pt_r_tt_5902043'}, inplace=True)\n",
    "df_merged.drop(['car_r_t', 'to_id'], axis=1, inplace=True)\n",
    "\n",
    "df_merged = df_merged.merge(df_4, on='from_id', how='inner')\n",
    "df_merged.rename(columns={'pt_r_tt' : 'pt_r_tt_5944003'}, inplace=True)\n",
    "df_merged.drop(['car_r_t', 'to_id'], axis=1, inplace=True)\n",
    "\n",
    "df_merged = df_merged.merge(df_5, on='from_id', how='inner')\n",
    "df_merged.rename(columns={'pt_r_tt' : 'pt_r_tt_5975373'}, inplace=True)\n",
    "df_merged.drop(['car_r_t', 'to_id'], axis=1, inplace=True)\n",
    "\n",
    "df_merged = df_merged.merge(df_6, on='from_id', how='inner')\n",
    "df_merged.rename(columns={'pt_r_tt' : 'pt_r_tt_5978593'}, inplace=True)\n",
    "df_merged.drop(['car_r_t', 'to_id'], axis=1, inplace=True)\n",
    "\n",
    "df_merged = df_merged.merge(df_7, on='from_id', how='inner')\n",
    "df_merged.rename(columns={'pt_r_tt' : 'pt_r_tt_5980260'}, inplace=True)\n",
    "df_merged.drop(['car_r_t', 'to_id'], axis=1, inplace=True)"
   ]
  },
  {
   "cell_type": "code",
   "execution_count": 17,
   "metadata": {},
   "outputs": [
    {
     "data": {
      "text/html": [
       "<div>\n",
       "<style scoped>\n",
       "    .dataframe tbody tr th:only-of-type {\n",
       "        vertical-align: middle;\n",
       "    }\n",
       "\n",
       "    .dataframe tbody tr th {\n",
       "        vertical-align: top;\n",
       "    }\n",
       "\n",
       "    .dataframe thead th {\n",
       "        text-align: right;\n",
       "    }\n",
       "</style>\n",
       "<table border=\"1\" class=\"dataframe\">\n",
       "  <thead>\n",
       "    <tr style=\"text-align: right;\">\n",
       "      <th></th>\n",
       "      <th>x</th>\n",
       "      <th>y</th>\n",
       "      <th>from_id</th>\n",
       "      <th>geometry</th>\n",
       "      <th>pt_r_tt_5878070</th>\n",
       "      <th>pt_r_tt_5878087</th>\n",
       "      <th>pt_r_tt_5902043</th>\n",
       "      <th>pt_r_tt_5944003</th>\n",
       "      <th>pt_r_tt_5975373</th>\n",
       "      <th>pt_r_tt_5978593</th>\n",
       "      <th>pt_r_tt_5980260</th>\n",
       "      <th>min_time_pt</th>\n",
       "    </tr>\n",
       "  </thead>\n",
       "  <tbody>\n",
       "    <tr>\n",
       "      <th>0</th>\n",
       "      <td>381875.0</td>\n",
       "      <td>6697880.0</td>\n",
       "      <td>5785640</td>\n",
       "      <td>POLYGON ((382000.000 6697750.000, 381750.000 6...</td>\n",
       "      <td>131</td>\n",
       "      <td>134</td>\n",
       "      <td>121</td>\n",
       "      <td>157</td>\n",
       "      <td>137</td>\n",
       "      <td>166</td>\n",
       "      <td>147</td>\n",
       "      <td>121</td>\n",
       "    </tr>\n",
       "    <tr>\n",
       "      <th>1</th>\n",
       "      <td>382125.0</td>\n",
       "      <td>6697880.0</td>\n",
       "      <td>5785641</td>\n",
       "      <td>POLYGON ((382250.000 6697750.000, 382000.000 6...</td>\n",
       "      <td>129</td>\n",
       "      <td>130</td>\n",
       "      <td>115</td>\n",
       "      <td>154</td>\n",
       "      <td>134</td>\n",
       "      <td>164</td>\n",
       "      <td>142</td>\n",
       "      <td>115</td>\n",
       "    </tr>\n",
       "    <tr>\n",
       "      <th>2</th>\n",
       "      <td>382375.0</td>\n",
       "      <td>6697880.0</td>\n",
       "      <td>5785642</td>\n",
       "      <td>POLYGON ((382500.000 6697750.000, 382250.000 6...</td>\n",
       "      <td>129</td>\n",
       "      <td>130</td>\n",
       "      <td>115</td>\n",
       "      <td>154</td>\n",
       "      <td>134</td>\n",
       "      <td>164</td>\n",
       "      <td>142</td>\n",
       "      <td>115</td>\n",
       "    </tr>\n",
       "    <tr>\n",
       "      <th>3</th>\n",
       "      <td>382625.0</td>\n",
       "      <td>6697880.0</td>\n",
       "      <td>5785643</td>\n",
       "      <td>POLYGON ((382750.000 6697750.000, 382500.000 6...</td>\n",
       "      <td>138</td>\n",
       "      <td>140</td>\n",
       "      <td>126</td>\n",
       "      <td>163</td>\n",
       "      <td>144</td>\n",
       "      <td>174</td>\n",
       "      <td>153</td>\n",
       "      <td>126</td>\n",
       "    </tr>\n",
       "    <tr>\n",
       "      <th>4</th>\n",
       "      <td>381125.0</td>\n",
       "      <td>6697630.0</td>\n",
       "      <td>5787544</td>\n",
       "      <td>POLYGON ((381250.000 6697500.000, 381000.000 6...</td>\n",
       "      <td>115</td>\n",
       "      <td>118</td>\n",
       "      <td>103</td>\n",
       "      <td>142</td>\n",
       "      <td>121</td>\n",
       "      <td>150</td>\n",
       "      <td>130</td>\n",
       "      <td>103</td>\n",
       "    </tr>\n",
       "  </tbody>\n",
       "</table>\n",
       "</div>"
      ],
      "text/plain": [
       "          x          y  from_id  \\\n",
       "0  381875.0  6697880.0  5785640   \n",
       "1  382125.0  6697880.0  5785641   \n",
       "2  382375.0  6697880.0  5785642   \n",
       "3  382625.0  6697880.0  5785643   \n",
       "4  381125.0  6697630.0  5787544   \n",
       "\n",
       "                                            geometry  pt_r_tt_5878070  \\\n",
       "0  POLYGON ((382000.000 6697750.000, 381750.000 6...              131   \n",
       "1  POLYGON ((382250.000 6697750.000, 382000.000 6...              129   \n",
       "2  POLYGON ((382500.000 6697750.000, 382250.000 6...              129   \n",
       "3  POLYGON ((382750.000 6697750.000, 382500.000 6...              138   \n",
       "4  POLYGON ((381250.000 6697500.000, 381000.000 6...              115   \n",
       "\n",
       "   pt_r_tt_5878087  pt_r_tt_5902043  pt_r_tt_5944003  pt_r_tt_5975373  \\\n",
       "0              134              121              157              137   \n",
       "1              130              115              154              134   \n",
       "2              130              115              154              134   \n",
       "3              140              126              163              144   \n",
       "4              118              103              142              121   \n",
       "\n",
       "   pt_r_tt_5978593  pt_r_tt_5980260  min_time_pt  \n",
       "0              166              147          121  \n",
       "1              164              142          115  \n",
       "2              164              142          115  \n",
       "3              174              153          126  \n",
       "4              150              130          103  "
      ]
     },
     "execution_count": 17,
     "metadata": {},
     "output_type": "execute_result"
    }
   ],
   "source": [
    "# 4 (min_time_pt)\n",
    "\n",
    "df_merged.replace(-1, 1e9, inplace=True) # replace -1 with 1e9 to find actual minimum\n",
    "\n",
    "df_merged['min_time_pt'] = df_merged[['pt_r_tt_5878070', 'pt_r_tt_5878087', \n",
    "                         'pt_r_tt_5902043', 'pt_r_tt_5944003', \n",
    "                         'pt_r_tt_5975373', 'pt_r_tt_5978593', \n",
    "                         'pt_r_tt_5980260']].min(axis=1)\n",
    "\n",
    "df_merged = df_merged.loc[df_merged['min_time_pt'] != 1e9] # delete all \"empty\" rows \n",
    "\n",
    "df_merged.head()"
   ]
  },
  {
   "cell_type": "code",
   "execution_count": 18,
   "metadata": {},
   "outputs": [],
   "source": [
    "# 4 (dominant_service)\n",
    "\n",
    "temp = df_merged[['pt_r_tt_5878070', 'pt_r_tt_5878087', \n",
    "                         'pt_r_tt_5902043', 'pt_r_tt_5944003', \n",
    "                         'pt_r_tt_5975373', 'pt_r_tt_5978593', \n",
    "                         'pt_r_tt_5980260']]\n",
    "\n",
    "df_merged['dominant_service'] = temp.apply(lambda row: temp.columns[row.argmin()][-7:], axis=1).astype(int)"
   ]
  },
  {
   "cell_type": "code",
   "execution_count": 19,
   "metadata": {
    "scrolled": false
   },
   "outputs": [
    {
     "data": {
      "image/png": "[encoded data removed]",
      "text/plain": [
       "<Figure size 1296x720 with 2 Axes>"
      ]
     },
     "metadata": {
      "needs_background": "light"
     },
     "output_type": "display_data"
    }
   ],
   "source": [
    "# 5, 6\n",
    "\n",
    "fig, axes = plt.subplots(1, 2, figsize=(18, 10))\n",
    "\n",
    "axes[0].set_title('min_time_pt')\n",
    "axes[1].set_title('dominant_service')\n",
    "\n",
    "df_merged.plot(column=\"min_time_pt\", scheme=\"Natural_Breaks\", k=9, cmap=\"RdYlBu\", linewidth=0, legend=True, ax=axes[0]) # 5\n",
    "df_merged.plot(column=\"dominant_service\", scheme=\"Natural_Breaks\", k=7, cmap=\"RdYlBu\", linewidth=0, legend=True, ax=axes[1]) # 6\n",
    "plt.show()"
   ]
  }
 ],
 "metadata": {
  "kernelspec": {
   "display_name": "Python 3",
   "language": "python",
   "name": "python3"
  },
  "language_info": {
   "codemirror_mode": {
    "name": "ipython",
    "version": 3
   },
   "file_extension": ".py",
   "mimetype": "text/x-python",
   "name": "python",
   "nbconvert_exporter": "python",
   "pygments_lexer": "ipython3",
   "version": "3.7.3"
  }
 },
 "nbformat": 4,
 "nbformat_minor": 4
}
